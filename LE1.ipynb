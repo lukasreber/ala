{
 "metadata": {
  "language_info": {
   "codemirror_mode": {
    "name": "ipython",
    "version": 3
   },
   "file_extension": ".py",
   "mimetype": "text/x-python",
   "name": "python",
   "nbconvert_exporter": "python",
   "pygments_lexer": "ipython3",
   "version": "3.8.3-final"
  },
  "orig_nbformat": 2,
  "kernelspec": {
   "name": "python3",
   "display_name": "Python 3",
   "language": "python"
  }
 },
 "nbformat": 4,
 "nbformat_minor": 2,
 "cells": [
  {
   "source": [
    "# Beispiel aus le1_eigenwerte_und_eigenvektoren.pdf 3.2 (Seite 8)"
   ],
   "cell_type": "markdown",
   "metadata": {}
  },
  {
   "cell_type": "code",
   "execution_count": 4,
   "metadata": {},
   "outputs": [],
   "source": [
    "import numpy as np\n",
    "import sympy as sp\n",
    "from sympy.solvers.solveset import linsolve"
   ]
  },
  {
   "cell_type": "code",
   "execution_count": 18,
   "metadata": {},
   "outputs": [],
   "source": [
    "B = sp.Matrix([[0,0,-2],[1,2,1],[1,0,3]])\n",
    "B_numpy = np.array([[0,0,-2],[1,2,1],[1,0,3]])\n"
   ]
  },
  {
   "source": [
    "## Manuelles Berechnen der Eigenvektoren und Eigenwerten"
   ],
   "cell_type": "markdown",
   "metadata": {}
  },
  {
   "cell_type": "code",
   "execution_count": 7,
   "metadata": {},
   "outputs": [
    {
     "output_type": "stream",
     "name": "stdout",
     "text": [
      "[1.00000000000000, 2.00000000000000]\n"
     ]
    }
   ],
   "source": [
    "# Determinante berechnen\n",
    "def Eigenwert(m): \n",
    "    size = m.shape[0]\n",
    "    l = sp.symbols(\"l\") # l wie lambda\n",
    "    I = np.eye(size) # Einheitsmatrix\n",
    "    I_1 = sp.Matrix(I) # Einheitsmatrix as sympy Matrix\n",
    "    det = sp.det(m-l*I_1)\n",
    "\n",
    "    # Werte für lambda berechnen = Eigenwerte, jedoch ohne algebraische Vielfachheit\n",
    "    return sp.solve(det)\n",
    "\n",
    "ew = Eigenwert(B)\n",
    "\n",
    "print(ew)\n",
    "\n"
   ]
  },
  {
   "cell_type": "code",
   "execution_count": 8,
   "metadata": {},
   "outputs": [
    {
     "output_type": "execute_result",
     "data": {
      "text/plain": [
       "FiniteSet((-2.0*tau0, 1.0*tau0, tau0))"
      ],
      "text/latex": "$\\displaystyle \\left\\{\\left( - 2.0 \\tau_{0}, \\  1.0 \\tau_{0}, \\  \\tau_{0}\\right)\\right\\}$"
     },
     "metadata": {},
     "execution_count": 8
    }
   ],
   "source": [
    "# Berechnen der Eigenvektoren\n",
    "def Eigenvektor(ew,m):\n",
    "    # Matrix - dem ersten Eigenwert\n",
    "    M = m - ew*np.eye(m.shape[0])\n",
    "    # Erweiterte Koeffizientenmatrix\n",
    "    M = np.append(M,([[0]] * m.shape[0]),1)\n",
    "    # LGS lösen\n",
    "    #x,y,z = sp.symbols('x y z')\n",
    "    return linsolve(sp.Matrix(M))\n",
    "\n",
    "Eigenvektor(ew[0],B)\n",
    "#Eigenvektor(ew[1],B)\n"
   ]
  },
  {
   "cell_type": "code",
   "execution_count": 13,
   "metadata": {},
   "outputs": [
    {
     "output_type": "execute_result",
     "data": {
      "text/plain": [
       "{x: -2.0*z, y: z}"
      ]
     },
     "metadata": {},
     "execution_count": 13
    }
   ],
   "source": [
    "# Alternativ mit sp.solve\n",
    "\n",
    "def sp_eigenvektor(ew):\n",
    "    x,y,z = sp.symbols('x y z')\n",
    "    return sp.solve((B - ew*np.eye(3))*sp.Matrix([[x],[y],[z]]) )\n",
    "\n",
    "sp_eigenvektor(ew[0])\n",
    "\n",
    "# Anschliessend noch Eigenvektoren bestimmen"
   ]
  },
  {
   "source": [
    "## Berechnung der Eigenvektoren und Eigenwerte mittels Numpy"
   ],
   "cell_type": "markdown",
   "metadata": {}
  },
  {
   "cell_type": "code",
   "execution_count": 19,
   "metadata": {},
   "outputs": [
    {
     "output_type": "stream",
     "name": "stdout",
     "text": [
      "Eigenwerte: [2. 1. 2.], \n Eigenvektoren: \n [[ 0.         -0.81649658  0.70710678]\n [ 1.          0.40824829  0.        ]\n [ 0.          0.40824829 -0.70710678]]\n"
     ]
    }
   ],
   "source": [
    "ew_2, V = np.linalg.eig(B_numpy)\n",
    "print('Eigenwerte: {0}, \\n Eigenvektoren: \\n {1}'.format(ew_2,V))"
   ]
  },
  {
   "cell_type": "code",
   "execution_count": 20,
   "metadata": {},
   "outputs": [
    {
     "output_type": "stream",
     "name": "stdout",
     "text": [
      "[[2. 0. 0.]\n [0. 1. 0.]\n [0. 0. 2.]]\n"
     ]
    }
   ],
   "source": [
    "# Diagonalmatrix der Eigenwerte\n",
    "D = np.diag(ew_2)\n",
    "print(D)"
   ]
  },
  {
   "cell_type": "code",
   "execution_count": 21,
   "metadata": {},
   "outputs": [
    {
     "output_type": "stream",
     "name": "stdout",
     "text": [
      "[[ 1.          1.          1.        ]\n [-2.44948974 -0.         -2.44948974]\n [-1.41421356 -0.         -2.82842712]]\n"
     ]
    }
   ],
   "source": [
    "# Berechnung der Inverse von V\n",
    "Vi = np.linalg.inv(V)\n",
    "\n",
    "print(Vi)"
   ]
  },
  {
   "source": [
    "# Nun sollte VDVi = B\n",
    "np.round(V @ D @ Vi)"
   ],
   "cell_type": "code",
   "metadata": {},
   "execution_count": 22,
   "outputs": [
    {
     "output_type": "execute_result",
     "data": {
      "text/plain": [
       "array([[ 0.,  0., -2.],\n",
       "       [ 1.,  2.,  1.],\n",
       "       [ 1.,  0.,  3.]])"
      ]
     },
     "metadata": {},
     "execution_count": 22
    }
   ]
  },
  {
   "source": [
    "# Uebung Aufgabe 15"
   ],
   "cell_type": "markdown",
   "metadata": {}
  },
  {
   "cell_type": "code",
   "execution_count": 23,
   "metadata": {},
   "outputs": [],
   "source": [
    "A = sp.Matrix([[89, 75,22, 102],[75, 116, 27, 120],[22,27,33,62],[102,120,62,200]])\n",
    "A_numpy = np.array([[89, 75,22, 102],[75, 116, 27, 120],[22,27,33,62],[102,120,62,200]])"
   ]
  },
  {
   "cell_type": "code",
   "execution_count": 25,
   "metadata": {},
   "outputs": [
    {
     "output_type": "stream",
     "name": "stdout",
     "text": [
      "[7.1630569063, 26.3371890658, 42.745931007, 361.7538230209]\n"
     ]
    }
   ],
   "source": [
    "# Aufage a\n",
    "res = Eigenwert(A)\n",
    "\n",
    "# Umwandung von Complex; runden auf 10 Nachkommastellen \n",
    "res_round = [round(complex(i).real,10) for i in res]\n",
    "\n",
    "print(res_round)"
   ]
  },
  {
   "source": [
    "# Lösung mit numpy\n",
    "EW, EV = np.linalg.eig(A_numpy)\n",
    "\n",
    "print('Eigenwerte: {0}, \\n Eigenvektoren: \\n {1}'.format(EW,EV))"
   ],
   "cell_type": "code",
   "metadata": {},
   "execution_count": 31,
   "outputs": [
    {
     "output_type": "stream",
     "name": "stdout",
     "text": [
      "Eigenwerte: [361.75382302  42.74593101  26.33718907   7.16305691], \n Eigenvektoren: \n [[-0.42552429 -0.42476765  0.76464379 -0.23199439]\n [-0.50507589 -0.54267519 -0.64193252 -0.19576676]\n [-0.20612674  0.54869183 -0.05515612 -0.80833585]\n [-0.72203822  0.4733005   0.01415338  0.50442752]]\n"
     ]
    }
   ]
  },
  {
   "cell_type": "code",
   "execution_count": 28,
   "metadata": {},
   "outputs": [
    {
     "output_type": "stream",
     "name": "stdout",
     "text": [
      "FiniteSet((0, 0, 0, 0))\n",
      "FiniteSet((0, 0, 0, 0))\n",
      "FiniteSet((0, 0, 0, 0))\n",
      "FiniteSet((0, 0, 0, 0))\n"
     ]
    },
    {
     "output_type": "execute_result",
     "data": {
      "text/plain": [
       "{a: 0.0, b: 0.0, c: 0.0, d: 0.0}"
      ]
     },
     "metadata": {},
     "execution_count": 28
    }
   ],
   "source": [
    "# Berechnung der Eigenvektoren alle Eigenwerte\n",
    "for i in res:\n",
    "    print(Eigenvektor(i,A))\n",
    "\n",
    "a,b,c,d = sp.symbols('a b c d')\n",
    "sp.solve((A - (res[0]*np.eye(4)))*sp.Matrix([[a],[b],[c],[d]]))\n",
    "\n",
    "# Fehlerhafte Berechnung aufgrund von Rundungsfehlern! "
   ]
  },
  {
   "cell_type": "code",
   "execution_count": 65,
   "metadata": {},
   "outputs": [
    {
     "output_type": "stream",
     "name": "stdout",
     "text": [
      "[-153.935040416947 -182.713133326046 -74.5671353967124 -261.200086200125]\n[-153.93504042 -182.71313333  -74.5671354  -261.2000862 ]\n"
     ]
    }
   ],
   "source": [
    "# Überprüfuen von AEV = (lambda)*EV\n",
    "print(np.dot(A,EV[:,0]))\n",
    "print(np.dot(EW[0],EV[:,0]))"
   ]
  },
  {
   "cell_type": "code",
   "execution_count": 70,
   "metadata": {},
   "outputs": [
    {
     "output_type": "stream",
     "name": "stdout",
     "text": [
      "0.0\n-0.0\n-0.0\n"
     ]
    }
   ],
   "source": [
    "# Aufgabe B\n",
    "print(np.round(np.dot(EV[:,0],EV[:,1])))\n",
    "print(np.round(np.dot(EV[:,0],EV[:,2])))\n",
    "print(np.round(np.dot(EV[:,0],EV[:,3])))\n",
    "\n",
    "# EV sind alle orthogonal\n"
   ]
  },
  {
   "cell_type": "code",
   "execution_count": 105,
   "metadata": {},
   "outputs": [],
   "source": [
    "# Aufgabe C\n",
    "\n",
    "# Berechnung der Inverse der \"gestapelten\" Eigenvektoren\n",
    "EVi = np.linalg.inv(EV)\n",
    "\n",
    "# Diagonalisierung der Matrix A\n",
    "A_diag = EVi @ np.array(A) @ EV\n"
   ]
  },
  {
   "cell_type": "code",
   "execution_count": 135,
   "metadata": {},
   "outputs": [
    {
     "output_type": "stream",
     "name": "stdout",
     "text": [
      "Matrix 20x Time: \n0.011512041091918945\nBerechnung mit Diagonalmatrix: \n0.005700111389160156 \nBerechnung mit np.linalg.matrix_power: \n0.0021467208862304688 \n"
     ]
    }
   ],
   "source": [
    "# Aufgabe D\n",
    "import time\n",
    "#1\n",
    "start = time.time()\n",
    "A @ A @ A @ A @ A @ A @ A @ A @ A @ A @ A @ A @ A @ A @ A @ A @ A @ A @ A @ A # gehts auch einfacher?\n",
    "print('Matrix 20x Time: \\n{0}'.format(time.time() - start))\n",
    "\n",
    "#2\n",
    "start = time.time()\n",
    "EVi @ (A_diag ** 20) @ EV\n",
    "print('Berechnung mit Diagonalmatrix: \\n{0} '.format(time.time() - start))\n",
    "\n",
    "\n",
    "#3\n",
    "start = time.time()\n",
    "np.linalg.matrix_power(A,20)\n",
    "print('Berechnung mit np.linalg.matrix_power: \\n{0} '.format(time.time() - start))\n"
   ]
  },
  {
   "cell_type": "code",
   "execution_count": 117,
   "metadata": {},
   "outputs": [
    {
     "output_type": "execute_result",
     "data": {
      "text/plain": [
       "array([[266754227097943552201532844614689052041221313114442,\n",
       "        316623820859875130475567393462221207898454163639181,\n",
       "        129217483659217099126270844993585421299977288792673,\n",
       "        452633961205365478504393595566521005940487841337194],\n",
       "       [316623820859875130475567393462221207898454163639181,\n",
       "        375816514799210635835496122438138178558195173769526,\n",
       "        153374639431890763436989603653091713926315332795797,\n",
       "        537253695309438426976625948913358799079060914759652],\n",
       "       [129217483659217099126270844993585421299977288792673,\n",
       "        153374639431890763436989603653091713926315332795797,\n",
       "        62593790039883341584729824064582613157983241066746,\n",
       "        219258836577633804067029425559646612742425176805282],\n",
       "       [452633961205365478504393595566521005940487841337194,\n",
       "        537253695309438426976625948913358799079060914759652,\n",
       "        219258836577633804067029425559646612742425176805282,\n",
       "        768038448969867260085483581694478633575969542855480]],\n",
       "      dtype=object)"
      ]
     },
     "metadata": {},
     "execution_count": 117
    }
   ],
   "source": []
  },
  {
   "cell_type": "code",
   "execution_count": null,
   "metadata": {},
   "outputs": [],
   "source": []
  }
 ]
}