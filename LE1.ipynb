{
 "metadata": {
  "language_info": {
   "codemirror_mode": {
    "name": "ipython",
    "version": 3
   },
   "file_extension": ".py",
   "mimetype": "text/x-python",
   "name": "python",
   "nbconvert_exporter": "python",
   "pygments_lexer": "ipython3",
   "version": "3.8.3-final"
  },
  "orig_nbformat": 2,
  "kernelspec": {
   "name": "python3",
   "display_name": "Python 3.8.3 64-bit",
   "metadata": {
    "interpreter": {
     "hash": "aee8b7b246df8f9039afb4144a1f6fd8d2ca17a180786b69acc140d282b71a49"
    }
   }
  }
 },
 "nbformat": 4,
 "nbformat_minor": 2,
 "cells": [
  {
   "source": [
    "# Beispiel aus le1_eigenwerte_und_eigenvektoren.pdf 3.2 (Seite 8)"
   ],
   "cell_type": "markdown",
   "metadata": {}
  },
  {
   "cell_type": "code",
   "execution_count": 2,
   "metadata": {},
   "outputs": [],
   "source": [
    "import numpy as np\n",
    "import sympy as sp\n",
    "from sympy.solvers.solveset import linsolve"
   ]
  },
  {
   "cell_type": "code",
   "execution_count": 3,
   "metadata": {},
   "outputs": [],
   "source": [
    "B = np.array([[0,0,-2],[1,2,1],[1,0,3]])\n",
    "I = np.eye(3) # Einheitsmatrix"
   ]
  },
  {
   "source": [
    "## Manuelles Berechnen der Eigenvektoren und Eigenwerten"
   ],
   "cell_type": "markdown",
   "metadata": {}
  },
  {
   "cell_type": "code",
   "execution_count": 4,
   "metadata": {},
   "outputs": [
    {
     "output_type": "stream",
     "name": "stdout",
     "text": [
      "[1.00000000000000, 2.00000000000000]\n"
     ]
    }
   ],
   "source": [
    "\n",
    "l = sp.symbols(\"l\") # l wie lambda\n",
    "B_1 = sp.Matrix(B) #Matrix als Sympy Matrix definieren, damit mit einer Variable gerechnet werden kann\n",
    "I_1 = sp.Matrix(I) # Einheitsmatrix as sympy Matrix\n",
    "\n",
    "# Determinante berechnen\n",
    "det = sp.det(B_1-l*I_1)\n",
    "\n",
    "# Werte für lambda berechnen = Eigenwerte, jedoch ohne algebraische Vielfachheit\n",
    "ew_1 = sp.solve(det)\n",
    "\n",
    "print(ew_1)\n",
    "\n"
   ]
  },
  {
   "cell_type": "code",
   "execution_count": 8,
   "metadata": {},
   "outputs": [
    {
     "output_type": "execute_result",
     "data": {
      "text/plain": [
       "FiniteSet((-1.0*z, y, z))"
      ],
      "text/latex": "$\\displaystyle \\left\\{\\left( - 1.0 z, \\  y, \\  z\\right)\\right\\}$"
     },
     "metadata": {},
     "execution_count": 8
    }
   ],
   "source": [
    "# Berechnen der Eigenvektoren\n",
    "\n",
    "def Eigenvektor(ew):\n",
    "    # Matrix - dem ersten Eigenwert\n",
    "    M = B_1 - ew*np.eye(3)\n",
    "    # Erweiterte Koefizientenmatrix\n",
    "    M = np.append(M,[[0],[0],[0]],1)\n",
    "    # LGS lösen\n",
    "    return linsolve(sp.Matrix(M),(x,y,z))\n",
    "    \n",
    "    return \n",
    "\n",
    "#Eigenvektor(ew_1[0])\n",
    "Eigenvektor(ew_1[1])"
   ]
  },
  {
   "cell_type": "code",
   "execution_count": 7,
   "metadata": {},
   "outputs": [
    {
     "output_type": "execute_result",
     "data": {
      "text/plain": [
       "{x: -2.0*z, y: z}"
      ]
     },
     "metadata": {},
     "execution_count": 7
    }
   ],
   "source": [
    "# Alternativ mit sp.solve\n",
    "\n",
    "def sp_eigenvektor(ew):\n",
    "    x,y,z = sp.symbols('x y z')\n",
    "    return sp.solve((B_1 - ew*I_1)*sp.Matrix([[x],[y],[z]]) )\n",
    "\n",
    "sp_eigenvektor(ew_1[0])\n",
    "\n",
    "# Anschliessend noch Eigenvektoren bestimmen"
   ]
  },
  {
   "source": [
    "## Berechnung der Eigenvektoren und Eigenwerte mittels Numpy"
   ],
   "cell_type": "markdown",
   "metadata": {}
  },
  {
   "cell_type": "code",
   "execution_count": 9,
   "metadata": {},
   "outputs": [
    {
     "output_type": "stream",
     "name": "stdout",
     "text": [
      "Eigenwerte: [2. 1. 2.], \n Eigenvektoren: \n [[ 0.         -0.81649658  0.70710678]\n [ 1.          0.40824829  0.        ]\n [ 0.          0.40824829 -0.70710678]]\n"
     ]
    }
   ],
   "source": [
    "ew_2, V = np.linalg.eig(B)\n",
    "print('Eigenwerte: {0}, \\n Eigenvektoren: \\n {1}'.format(ew_2,V))"
   ]
  },
  {
   "cell_type": "code",
   "execution_count": 10,
   "metadata": {},
   "outputs": [
    {
     "output_type": "stream",
     "name": "stdout",
     "text": [
      "[[2. 0. 0.]\n [0. 1. 0.]\n [0. 0. 2.]]\n"
     ]
    }
   ],
   "source": [
    "# Diagonalmatrix der Eigenwerte\n",
    "D = np.diag(ew_2)\n",
    "print(D)"
   ]
  },
  {
   "cell_type": "code",
   "execution_count": 11,
   "metadata": {},
   "outputs": [
    {
     "output_type": "stream",
     "name": "stdout",
     "text": [
      "[[ 1.          1.          1.        ]\n [-2.44948974 -0.         -2.44948974]\n [-1.41421356 -0.         -2.82842712]]\n"
     ]
    }
   ],
   "source": [
    "# Berechnung der Inverse von V\n",
    "Vi = np.linalg.inv(V)\n",
    "\n",
    "print(Vi)"
   ]
  },
  {
   "source": [
    "# Nun sollte VDVi = B\n",
    "np.round(V @ D @ Vi)"
   ],
   "cell_type": "code",
   "metadata": {},
   "execution_count": 12,
   "outputs": [
    {
     "output_type": "execute_result",
     "data": {
      "text/plain": [
       "array([[ 0.,  0., -2.],\n",
       "       [ 1.,  2.,  1.],\n",
       "       [ 1.,  0.,  3.]])"
      ]
     },
     "metadata": {},
     "execution_count": 12
    }
   ]
  },
  {
   "cell_type": "code",
   "execution_count": null,
   "metadata": {},
   "outputs": [],
   "source": []
  }
 ]
}