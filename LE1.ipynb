{
 "metadata": {
  "language_info": {
   "codemirror_mode": {
    "name": "ipython",
    "version": 3
   },
   "file_extension": ".py",
   "mimetype": "text/x-python",
   "name": "python",
   "nbconvert_exporter": "python",
   "pygments_lexer": "ipython3",
   "version": "3.8.3-final"
  },
  "orig_nbformat": 2,
  "kernelspec": {
   "name": "python3",
   "display_name": "Python 3.8.3 64-bit",
   "metadata": {
    "interpreter": {
     "hash": "aee8b7b246df8f9039afb4144a1f6fd8d2ca17a180786b69acc140d282b71a49"
    }
   }
  }
 },
 "nbformat": 4,
 "nbformat_minor": 2,
 "cells": [
  {
   "source": [
    "# Beispiel aus le1_eigenwerte_und_eigenvektoren.pdf 3.2 (Seite 8)"
   ],
   "cell_type": "markdown",
   "metadata": {}
  },
  {
   "cell_type": "code",
   "execution_count": 79,
   "metadata": {},
   "outputs": [],
   "source": [
    "import numpy as np\n",
    "import sympy as sp\n",
    "from sympy.solvers.solveset import linsolve"
   ]
  },
  {
   "cell_type": "code",
   "execution_count": 80,
   "metadata": {},
   "outputs": [],
   "source": [
    "B = np.array([[0,0,-2],[1,2,1],[1,0,3]])\n",
    "I = np.eye(3) # Einheitsmatrix"
   ]
  },
  {
   "source": [
    "## Manuelles Berechnen der Eigenvektoren und Eigenwerten"
   ],
   "cell_type": "markdown",
   "metadata": {}
  },
  {
   "cell_type": "code",
   "execution_count": 82,
   "metadata": {},
   "outputs": [
    {
     "output_type": "stream",
     "name": "stdout",
     "text": [
      "[1.00000000000000, 2.00000000000000]\n"
     ]
    }
   ],
   "source": [
    "\n",
    "l = sp.symbols(\"l\") # l wie lambda\n",
    "B_1 = sp.Matrix(B) #Matrix als Sympy Matrix definieren, damit mit einer Variable gerechnet werden kann\n",
    "I_1 = sp.Matrix(I) # Einheitsmatrix as sympy Matrix\n",
    "\n",
    "# Determinante berechnen\n",
    "det = sp.det(B_1-l*I_1)\n",
    "\n",
    "# Werte für lambda berechnen = Eigenwerte, jedoch ohne algebraische Vielfachheit\n",
    "ew_1 = sp.solve(det)\n",
    "\n",
    "print(ew_1)\n",
    "\n"
   ]
  },
  {
   "cell_type": "code",
   "execution_count": 85,
   "metadata": {},
   "outputs": [
    {
     "output_type": "execute_result",
     "data": {
      "text/plain": [
       "FiniteSet((-2.0*tau0, 1.0*tau0, tau0))"
      ],
      "text/latex": "$\\displaystyle \\left\\{\\left( - 2.0 \\tau_{0}, \\  1.0 \\tau_{0}, \\  \\tau_{0}\\right)\\right\\}$"
     },
     "metadata": {},
     "execution_count": 85
    }
   ],
   "source": [
    "# Berechnen der Eigenvektoren\n",
    "\n",
    "def Eigenvektor(ew):\n",
    "    # Matrix - der erste Eigenwert\n",
    "    x = B_1 - ew*np.eye(3)\n",
    "    # Erweiterte Koefizientenmatrix\n",
    "    y = np.append(x,[[0],[0],[0]],1)\n",
    "    # LGS lösen\n",
    "    return linsolve(sp.Matrix(y))\n",
    "\n",
    "Eigenvektor(ew_1[0])\n",
    "#Eigenvektor(ew_1[1])"
   ]
  },
  {
   "source": [
    "## Berechnung der Eigenvektoren und Eigenwerte mittels Numpy"
   ],
   "cell_type": "markdown",
   "metadata": {}
  },
  {
   "cell_type": "code",
   "execution_count": 89,
   "metadata": {},
   "outputs": [
    {
     "output_type": "stream",
     "name": "stdout",
     "text": [
      "Eigenwerte: [2. 1. 2.], \n Eigenvektoren: \n [[ 0.         -0.81649658  0.70710678]\n [ 1.          0.40824829  0.        ]\n [ 0.          0.40824829 -0.70710678]]\n"
     ]
    }
   ],
   "source": [
    "ew_2, V = np.linalg.eig(B)\n",
    "print('Eigenwerte: {0}, \\n Eigenvektoren: \\n {1}'.format(ew_2,V))"
   ]
  },
  {
   "cell_type": "code",
   "execution_count": 90,
   "metadata": {},
   "outputs": [
    {
     "output_type": "stream",
     "name": "stdout",
     "text": [
      "[[2. 0. 0.]\n [0. 1. 0.]\n [0. 0. 2.]]\n"
     ]
    }
   ],
   "source": [
    "# Diagonalmatrix der Eigenwerte\n",
    "D = np.diag(ew_2)\n",
    "print(D)"
   ]
  },
  {
   "cell_type": "code",
   "execution_count": 91,
   "metadata": {},
   "outputs": [
    {
     "output_type": "stream",
     "name": "stdout",
     "text": [
      "[[ 1.          1.          1.        ]\n [-2.44948974 -0.         -2.44948974]\n [-1.41421356 -0.         -2.82842712]]\n"
     ]
    }
   ],
   "source": [
    "# Berechnung der Inverse von V\n",
    "Vi = np.linalg.inv(V)\n",
    "\n",
    "print(Vi)"
   ]
  },
  {
   "source": [
    "# Nun sollte VDVi = B\n",
    "V @ D @ Vi"
   ],
   "cell_type": "code",
   "metadata": {},
   "execution_count": 92,
   "outputs": [
    {
     "output_type": "execute_result",
     "data": {
      "text/plain": [
       "array([[ 4.05861454e-17,  0.00000000e+00, -2.00000000e+00],\n",
       "       [ 1.00000000e+00,  2.00000000e+00,  1.00000000e+00],\n",
       "       [ 1.00000000e+00,  0.00000000e+00,  3.00000000e+00]])"
      ]
     },
     "metadata": {},
     "execution_count": 92
    }
   ]
  },
  {
   "cell_type": "code",
   "execution_count": null,
   "metadata": {},
   "outputs": [],
   "source": []
  }
 ]
}