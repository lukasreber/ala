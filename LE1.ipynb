{
 "metadata": {
  "language_info": {
   "codemirror_mode": {
    "name": "ipython",
    "version": 3
   },
   "file_extension": ".py",
   "mimetype": "text/x-python",
   "name": "python",
   "nbconvert_exporter": "python",
   "pygments_lexer": "ipython3",
   "version": "3.8.3-final"
  },
  "orig_nbformat": 2,
  "kernelspec": {
   "name": "python3",
   "display_name": "Python 3",
   "language": "python"
  }
 },
 "nbformat": 4,
 "nbformat_minor": 2,
 "cells": [
  {
   "source": [
    "# Beispiel aus le1_eigenwerte_und_eigenvektoren.pdf 3.2 (Seite 8)"
   ],
   "cell_type": "markdown",
   "metadata": {}
  },
  {
   "cell_type": "code",
   "execution_count": 4,
   "metadata": {},
   "outputs": [],
   "source": [
    "import numpy as np\n",
    "import sympy as sp\n",
    "from sympy.solvers.solveset import linsolve"
   ]
  },
  {
   "cell_type": "code",
   "execution_count": 18,
   "metadata": {},
   "outputs": [],
   "source": [
    "B = sp.Matrix([[0,0,-2],[1,2,1],[1,0,3]])\n",
    "B_numpy = np.array([[0,0,-2],[1,2,1],[1,0,3]])\n"
   ]
  },
  {
   "source": [
    "## Manuelles Berechnen der Eigenvektoren und Eigenwerten"
   ],
   "cell_type": "markdown",
   "metadata": {}
  },
  {
   "cell_type": "code",
   "execution_count": 7,
   "metadata": {},
   "outputs": [
    {
     "output_type": "stream",
     "name": "stdout",
     "text": [
      "[1.00000000000000, 2.00000000000000]\n"
     ]
    }
   ],
   "source": [
    "# Determinante berechnen\n",
    "def Eigenwert(m): \n",
    "    size = m.shape[0]\n",
    "    l = sp.symbols(\"l\") # l wie lambda\n",
    "    I = np.eye(size) # Einheitsmatrix\n",
    "    I_1 = sp.Matrix(I) # Einheitsmatrix as sympy Matrix\n",
    "    det = sp.det(m-l*I_1)\n",
    "\n",
    "    # Werte für lambda berechnen = Eigenwerte, jedoch ohne algebraische Vielfachheit\n",
    "    return sp.solve(det)\n",
    "\n",
    "ew = Eigenwert(B)\n",
    "\n",
    "print(ew)\n",
    "\n"
   ]
  },
  {
   "cell_type": "code",
   "execution_count": 8,
   "metadata": {},
   "outputs": [
    {
     "output_type": "execute_result",
     "data": {
      "text/plain": [
       "FiniteSet((-2.0*tau0, 1.0*tau0, tau0))"
      ],
      "text/latex": "$\\displaystyle \\left\\{\\left( - 2.0 \\tau_{0}, \\  1.0 \\tau_{0}, \\  \\tau_{0}\\right)\\right\\}$"
     },
     "metadata": {},
     "execution_count": 8
    }
   ],
   "source": [
    "# Berechnen der Eigenvektoren\n",
    "def Eigenvektor(ew,m):\n",
    "    # Matrix - dem ersten Eigenwert\n",
    "    M = m - ew*np.eye(m.shape[0])\n",
    "    # Erweiterte Koeffizientenmatrix\n",
    "    M = np.append(M,([[0]] * m.shape[0]),1)\n",
    "    # LGS lösen\n",
    "    #x,y,z = sp.symbols('x y z')\n",
    "    return linsolve(sp.Matrix(M))\n",
    "\n",
    "Eigenvektor(ew[0],B)\n",
    "#Eigenvektor(ew[1],B)\n"
   ]
  },
  {
   "cell_type": "code",
   "execution_count": 13,
   "metadata": {},
   "outputs": [
    {
     "output_type": "execute_result",
     "data": {
      "text/plain": [
       "{x: -2.0*z, y: z}"
      ]
     },
     "metadata": {},
     "execution_count": 13
    }
   ],
   "source": [
    "# Alternativ mit sp.solve\n",
    "\n",
    "def sp_eigenvektor(ew):\n",
    "    x,y,z = sp.symbols('x y z')\n",
    "    return sp.solve((B - ew*np.eye(3))*sp.Matrix([[x],[y],[z]]) )\n",
    "\n",
    "sp_eigenvektor(ew[0])\n",
    "\n",
    "# Anschliessend noch Eigenvektoren bestimmen"
   ]
  },
  {
   "source": [
    "## Berechnung der Eigenvektoren und Eigenwerte mittels Numpy"
   ],
   "cell_type": "markdown",
   "metadata": {}
  },
  {
   "cell_type": "code",
   "execution_count": 19,
   "metadata": {},
   "outputs": [
    {
     "output_type": "stream",
     "name": "stdout",
     "text": [
      "Eigenwerte: [2. 1. 2.], \n Eigenvektoren: \n [[ 0.         -0.81649658  0.70710678]\n [ 1.          0.40824829  0.        ]\n [ 0.          0.40824829 -0.70710678]]\n"
     ]
    }
   ],
   "source": [
    "ew_2, V = np.linalg.eig(B_numpy)\n",
    "print('Eigenwerte: {0}, \\n Eigenvektoren: \\n {1}'.format(ew_2,V))"
   ]
  },
  {
   "cell_type": "code",
   "execution_count": 20,
   "metadata": {},
   "outputs": [
    {
     "output_type": "stream",
     "name": "stdout",
     "text": [
      "[[2. 0. 0.]\n [0. 1. 0.]\n [0. 0. 2.]]\n"
     ]
    }
   ],
   "source": [
    "# Diagonalmatrix der Eigenwerte\n",
    "D = np.diag(ew_2)\n",
    "print(D)"
   ]
  },
  {
   "cell_type": "code",
   "execution_count": 21,
   "metadata": {},
   "outputs": [
    {
     "output_type": "stream",
     "name": "stdout",
     "text": [
      "[[ 1.          1.          1.        ]\n [-2.44948974 -0.         -2.44948974]\n [-1.41421356 -0.         -2.82842712]]\n"
     ]
    }
   ],
   "source": [
    "# Berechnung der Inverse von V\n",
    "Vi = np.linalg.inv(V)\n",
    "\n",
    "print(Vi)"
   ]
  },
  {
   "source": [
    "# Nun sollte VDVi = B\n",
    "np.round(V @ D @ Vi)"
   ],
   "cell_type": "code",
   "metadata": {},
   "execution_count": 22,
   "outputs": [
    {
     "output_type": "execute_result",
     "data": {
      "text/plain": [
       "array([[ 0.,  0., -2.],\n",
       "       [ 1.,  2.,  1.],\n",
       "       [ 1.,  0.,  3.]])"
      ]
     },
     "metadata": {},
     "execution_count": 22
    }
   ]
  },
  {
   "source": [
    "# Uebung Aufgabe 15"
   ],
   "cell_type": "markdown",
   "metadata": {}
  },
  {
   "cell_type": "code",
   "execution_count": 23,
   "metadata": {},
   "outputs": [],
   "source": [
    "A = sp.Matrix([[89, 75,22, 102],[75, 116, 27, 120],[22,27,33,62],[102,120,62,200]])\n",
    "A_numpy = np.array([[89, 75,22, 102],[75, 116, 27, 120],[22,27,33,62],[102,120,62,200]])"
   ]
  },
  {
   "cell_type": "code",
   "execution_count": 25,
   "metadata": {},
   "outputs": [
    {
     "output_type": "stream",
     "name": "stdout",
     "text": [
      "[7.1630569063, 26.3371890658, 42.745931007, 361.7538230209]\n"
     ]
    }
   ],
   "source": [
    "# Aufage a\n",
    "res = Eigenwert(A)\n",
    "\n",
    "# Umwandung von Complex; runden auf 10 Nachkommastellen \n",
    "res_round = [round(complex(i).real,10) for i in res]\n",
    "\n",
    "print(res_round)"
   ]
  },
  {
   "source": [
    "# Lösung mit numpy\n",
    "EW, EV = np.linalg.eig(A_numpy)\n",
    "\n",
    "print('Eigenwerte: {0}, \\n Eigenvektoren: \\n {1}'.format(EW,EV))"
   ],
   "cell_type": "code",
   "metadata": {},
   "execution_count": 31,
   "outputs": [
    {
     "output_type": "stream",
     "name": "stdout",
     "text": [
      "Eigenwerte: [361.75382302  42.74593101  26.33718907   7.16305691], \n Eigenvektoren: \n [[-0.42552429 -0.42476765  0.76464379 -0.23199439]\n [-0.50507589 -0.54267519 -0.64193252 -0.19576676]\n [-0.20612674  0.54869183 -0.05515612 -0.80833585]\n [-0.72203822  0.4733005   0.01415338  0.50442752]]\n"
     ]
    }
   ]
  },
  {
   "cell_type": "code",
   "execution_count": 28,
   "metadata": {},
   "outputs": [
    {
     "output_type": "stream",
     "name": "stdout",
     "text": [
      "FiniteSet((0, 0, 0, 0))\n",
      "FiniteSet((0, 0, 0, 0))\n",
      "FiniteSet((0, 0, 0, 0))\n",
      "FiniteSet((0, 0, 0, 0))\n"
     ]
    },
    {
     "output_type": "execute_result",
     "data": {
      "text/plain": [
       "{a: 0.0, b: 0.0, c: 0.0, d: 0.0}"
      ]
     },
     "metadata": {},
     "execution_count": 28
    }
   ],
   "source": [
    "# Berechnung der Eigenvektoren alle Eigenwerte\n",
    "for i in res:\n",
    "    print(Eigenvektor(i,A))\n",
    "\n",
    "a,b,c,d = sp.symbols('a b c d')\n",
    "sp.solve((A - (res[0]*np.eye(4)))*sp.Matrix([[a],[b],[c],[d]]))\n",
    "\n",
    "# Fehlerhafte Berechnung aufgrund von Rundungsfehlern! "
   ]
  },
  {
   "cell_type": "code",
   "execution_count": 65,
   "metadata": {},
   "outputs": [
    {
     "output_type": "stream",
     "name": "stdout",
     "text": [
      "[-153.935040416947 -182.713133326046 -74.5671353967124 -261.200086200125]\n[-153.93504042 -182.71313333  -74.5671354  -261.2000862 ]\n"
     ]
    }
   ],
   "source": [
    "# Überprüfuen von AEV = (lambda)*EV\n",
    "print(np.dot(A,EV[:,0]))\n",
    "print(np.dot(EW[0],EV[:,0]))"
   ]
  },
  {
   "cell_type": "code",
   "execution_count": 70,
   "metadata": {},
   "outputs": [
    {
     "output_type": "stream",
     "name": "stdout",
     "text": [
      "0.0\n-0.0\n-0.0\n"
     ]
    }
   ],
   "source": [
    "# Aufgabe B\n",
    "print(np.round(np.dot(EV[:,0],EV[:,1])))\n",
    "print(np.round(np.dot(EV[:,0],EV[:,2])))\n",
    "print(np.round(np.dot(EV[:,0],EV[:,3])))\n",
    "\n",
    "# EV sind alle orthogonal\n"
   ]
  },
  {
   "cell_type": "code",
   "execution_count": 105,
   "metadata": {},
   "outputs": [],
   "source": [
    "# Aufgabe C\n",
    "\n",
    "# Berechnung der Inverse der \"gestapelten\" Eigenvektoren\n",
    "EVi = np.linalg.inv(EV)\n",
    "\n",
    "# Diagonalisierung der Matrix A\n",
    "A_diag = EVi @ np.array(A) @ EV\n"
   ]
  },
  {
   "cell_type": "code",
   "execution_count": 135,
   "metadata": {},
   "outputs": [
    {
     "output_type": "stream",
     "name": "stdout",
     "text": [
      "Matrix 20x Time: \n0.011512041091918945\nBerechnung mit Diagonalmatrix: \n0.005700111389160156 \nBerechnung mit np.linalg.matrix_power: \n0.0021467208862304688 \n"
     ]
    }
   ],
   "source": [
    "# Aufgabe D\n",
    "import time\n",
    "#1\n",
    "start = time.time()\n",
    "A @ A @ A @ A @ A @ A @ A @ A @ A @ A @ A @ A @ A @ A @ A @ A @ A @ A @ A @ A # gehts auch einfacher?\n",
    "print('Matrix 20x Time: \\n{0}'.format(time.time() - start))\n",
    "\n",
    "#2\n",
    "start = time.time()\n",
    "EVi @ (A_diag ** 20) @ EV\n",
    "print('Berechnung mit Diagonalmatrix: \\n{0} '.format(time.time() - start))\n",
    "\n",
    "\n",
    "#3\n",
    "start = time.time()\n",
    "np.linalg.matrix_power(A,20)\n",
    "print('Berechnung mit np.linalg.matrix_power: \\n{0} '.format(time.time() - start))\n"
   ]
  },
  {
   "source": [
    "# Aufgabe 16"
   ],
   "cell_type": "markdown",
   "metadata": {}
  },
  {
   "cell_type": "code",
   "execution_count": 8,
   "metadata": {},
   "outputs": [
    {
     "output_type": "execute_result",
     "data": {
      "text/plain": [
       "array([[ -2,  -4,  -6,   6,  -8,   6,   3,   6,   8,  -9,  -1,   1,   4,\n",
       "          2,   2,   2,  -1,  -1,   2,   2],\n",
       "       [ -3,  -7, -13,  16, -14,  14,   6,  11,  18, -19,   5,   0,   3,\n",
       "          3,   6,   8,  -3,  -1,   0,   9]])"
      ]
     },
     "metadata": {},
     "execution_count": 8
    }
   ],
   "source": [
    "X = np.array([[-2,-4,-6,6,-8,6,3,6,8,-9,-1,1,4,2,2,2,-1,-1,2,2],[-3,-7,-13,16,-14,14,6,11,18,-19,5,0,3,3,6,8,-3,-1,0,9]])\n",
    "\n",
    "X"
   ]
  },
  {
   "cell_type": "code",
   "execution_count": 5,
   "metadata": {},
   "outputs": [],
   "source": [
    "import matplotlib.pyplot as plt"
   ]
  },
  {
   "cell_type": "code",
   "execution_count": 13,
   "metadata": {},
   "outputs": [
    {
     "output_type": "execute_result",
     "data": {
      "text/plain": [
       "<matplotlib.collections.PathCollection at 0x7fbb935652e0>"
      ]
     },
     "metadata": {},
     "execution_count": 13
    },
    {
     "output_type": "display_data",
     "data": {
      "text/plain": "<Figure size 432x288 with 1 Axes>",
      "image/svg+xml": "<?xml version=\"1.0\" encoding=\"utf-8\" standalone=\"no\"?>\n<!DOCTYPE svg PUBLIC \"-//W3C//DTD SVG 1.1//EN\"\n  \"http://www.w3.org/Graphics/SVG/1.1/DTD/svg11.dtd\">\n<!-- Created with matplotlib (https://matplotlib.org/) -->\n<svg height=\"248.518125pt\" version=\"1.1\" viewBox=\"0 0 377.304688 248.518125\" width=\"377.304688pt\" xmlns=\"http://www.w3.org/2000/svg\" xmlns:xlink=\"http://www.w3.org/1999/xlink\">\n <defs>\n  <style type=\"text/css\">\n*{stroke-linecap:butt;stroke-linejoin:round;}\n  </style>\n </defs>\n <g id=\"figure_1\">\n  <g id=\"patch_1\">\n   <path d=\"M 0 248.518125 \nL 377.304688 248.518125 \nL 377.304688 0 \nL 0 0 \nz\n\" style=\"fill:none;\"/>\n  </g>\n  <g id=\"axes_1\">\n   <g id=\"patch_2\">\n    <path d=\"M 35.304688 224.64 \nL 370.104688 224.64 \nL 370.104688 7.2 \nL 35.304688 7.2 \nz\n\" style=\"fill:#ffffff;\"/>\n   </g>\n   <g id=\"PathCollection_1\">\n    <defs>\n     <path d=\"M 0 3 \nC 0.795609 3 1.55874 2.683901 2.12132 2.12132 \nC 2.683901 1.55874 3 0.795609 3 0 \nC 3 -0.795609 2.683901 -1.55874 2.12132 -2.12132 \nC 1.55874 -2.683901 0.795609 -3 0 -3 \nC -0.795609 -3 -1.55874 -2.683901 -2.12132 -2.12132 \nC -2.683901 -1.55874 -3 -0.795609 -3 0 \nC -3 0.795609 -2.683901 1.55874 -2.12132 2.12132 \nC -1.55874 2.683901 -0.795609 3 0 3 \nz\n\" id=\"m73134453e0\" style=\"stroke:#1f77b4;\"/>\n    </defs>\n    <g clip-path=\"url(#pac0abf3131)\">\n     <use style=\"fill:#1f77b4;stroke:#1f77b4;\" x=\"175.877354\" xlink:href=\"#m73134453e0\" y=\"129.266312\"/>\n     <use style=\"fill:#1f77b4;stroke:#1f77b4;\" x=\"140.107575\" xlink:href=\"#m73134453e0\" y=\"150.620411\"/>\n     <use style=\"fill:#1f77b4;stroke:#1f77b4;\" x=\"104.337796\" xlink:href=\"#m73134453e0\" y=\"182.65156\"/>\n     <use style=\"fill:#1f77b4;stroke:#1f77b4;\" x=\"318.956468\" xlink:href=\"#m73134453e0\" y=\"27.834341\"/>\n     <use style=\"fill:#1f77b4;stroke:#1f77b4;\" x=\"68.568018\" xlink:href=\"#m73134453e0\" y=\"187.990085\"/>\n     <use style=\"fill:#1f77b4;stroke:#1f77b4;\" x=\"318.956468\" xlink:href=\"#m73134453e0\" y=\"38.511391\"/>\n     <use style=\"fill:#1f77b4;stroke:#1f77b4;\" x=\"265.3018\" xlink:href=\"#m73134453e0\" y=\"81.219589\"/>\n     <use style=\"fill:#1f77b4;stroke:#1f77b4;\" x=\"318.956468\" xlink:href=\"#m73134453e0\" y=\"54.526965\"/>\n     <use style=\"fill:#1f77b4;stroke:#1f77b4;\" x=\"354.726247\" xlink:href=\"#m73134453e0\" y=\"17.157292\"/>\n     <use style=\"fill:#1f77b4;stroke:#1f77b4;\" x=\"50.683128\" xlink:href=\"#m73134453e0\" y=\"214.682708\"/>\n     <use style=\"fill:#1f77b4;stroke:#1f77b4;\" x=\"193.762243\" xlink:href=\"#m73134453e0\" y=\"86.558114\"/>\n     <use style=\"fill:#1f77b4;stroke:#1f77b4;\" x=\"229.532021\" xlink:href=\"#m73134453e0\" y=\"113.250738\"/>\n     <use style=\"fill:#1f77b4;stroke:#1f77b4;\" x=\"283.186689\" xlink:href=\"#m73134453e0\" y=\"97.235163\"/>\n     <use style=\"fill:#1f77b4;stroke:#1f77b4;\" x=\"247.416911\" xlink:href=\"#m73134453e0\" y=\"97.235163\"/>\n     <use style=\"fill:#1f77b4;stroke:#1f77b4;\" x=\"247.416911\" xlink:href=\"#m73134453e0\" y=\"81.219589\"/>\n     <use style=\"fill:#1f77b4;stroke:#1f77b4;\" x=\"247.416911\" xlink:href=\"#m73134453e0\" y=\"70.542539\"/>\n     <use style=\"fill:#1f77b4;stroke:#1f77b4;\" x=\"193.762243\" xlink:href=\"#m73134453e0\" y=\"129.266312\"/>\n     <use style=\"fill:#1f77b4;stroke:#1f77b4;\" x=\"193.762243\" xlink:href=\"#m73134453e0\" y=\"118.589262\"/>\n     <use style=\"fill:#1f77b4;stroke:#1f77b4;\" x=\"247.416911\" xlink:href=\"#m73134453e0\" y=\"113.250738\"/>\n     <use style=\"fill:#1f77b4;stroke:#1f77b4;\" x=\"247.416911\" xlink:href=\"#m73134453e0\" y=\"65.204015\"/>\n    </g>\n   </g>\n   <g id=\"matplotlib.axis_1\">\n    <g id=\"xtick_1\">\n     <g id=\"line2d_1\">\n      <defs>\n       <path d=\"M 0 0 \nL 0 3.5 \n\" id=\"m508683b20a\" style=\"stroke:#000000;stroke-width:0.8;\"/>\n      </defs>\n      <g>\n       <use style=\"stroke:#000000;stroke-width:0.8;\" x=\"77.510462\" xlink:href=\"#m508683b20a\" y=\"224.64\"/>\n      </g>\n     </g>\n     <g id=\"text_1\">\n      <!-- −7.5 -->\n      <defs>\n       <path d=\"M 10.59375 35.5 \nL 73.1875 35.5 \nL 73.1875 27.203125 \nL 10.59375 27.203125 \nz\n\" id=\"DejaVuSans-8722\"/>\n       <path d=\"M 8.203125 72.90625 \nL 55.078125 72.90625 \nL 55.078125 68.703125 \nL 28.609375 0 \nL 18.3125 0 \nL 43.21875 64.59375 \nL 8.203125 64.59375 \nz\n\" id=\"DejaVuSans-55\"/>\n       <path d=\"M 10.6875 12.40625 \nL 21 12.40625 \nL 21 0 \nL 10.6875 0 \nz\n\" id=\"DejaVuSans-46\"/>\n       <path d=\"M 10.796875 72.90625 \nL 49.515625 72.90625 \nL 49.515625 64.59375 \nL 19.828125 64.59375 \nL 19.828125 46.734375 \nQ 21.96875 47.46875 24.109375 47.828125 \nQ 26.265625 48.1875 28.421875 48.1875 \nQ 40.625 48.1875 47.75 41.5 \nQ 54.890625 34.8125 54.890625 23.390625 \nQ 54.890625 11.625 47.5625 5.09375 \nQ 40.234375 -1.421875 26.90625 -1.421875 \nQ 22.3125 -1.421875 17.546875 -0.640625 \nQ 12.796875 0.140625 7.71875 1.703125 \nL 7.71875 11.625 \nQ 12.109375 9.234375 16.796875 8.0625 \nQ 21.484375 6.890625 26.703125 6.890625 \nQ 35.15625 6.890625 40.078125 11.328125 \nQ 45.015625 15.765625 45.015625 23.390625 \nQ 45.015625 31 40.078125 35.4375 \nQ 35.15625 39.890625 26.703125 39.890625 \nQ 22.75 39.890625 18.8125 39.015625 \nQ 14.890625 38.140625 10.796875 36.28125 \nz\n\" id=\"DejaVuSans-53\"/>\n      </defs>\n      <g transform=\"translate(65.369056 239.238437)scale(0.1 -0.1)\">\n       <use xlink:href=\"#DejaVuSans-8722\"/>\n       <use x=\"83.789062\" xlink:href=\"#DejaVuSans-55\"/>\n       <use x=\"147.412109\" xlink:href=\"#DejaVuSans-46\"/>\n       <use x=\"179.199219\" xlink:href=\"#DejaVuSans-53\"/>\n      </g>\n     </g>\n    </g>\n    <g id=\"xtick_2\">\n     <g id=\"line2d_2\">\n      <g>\n       <use style=\"stroke:#000000;stroke-width:0.8;\" x=\"122.222686\" xlink:href=\"#m508683b20a\" y=\"224.64\"/>\n      </g>\n     </g>\n     <g id=\"text_2\">\n      <!-- −5.0 -->\n      <defs>\n       <path d=\"M 31.78125 66.40625 \nQ 24.171875 66.40625 20.328125 58.90625 \nQ 16.5 51.421875 16.5 36.375 \nQ 16.5 21.390625 20.328125 13.890625 \nQ 24.171875 6.390625 31.78125 6.390625 \nQ 39.453125 6.390625 43.28125 13.890625 \nQ 47.125 21.390625 47.125 36.375 \nQ 47.125 51.421875 43.28125 58.90625 \nQ 39.453125 66.40625 31.78125 66.40625 \nz\nM 31.78125 74.21875 \nQ 44.046875 74.21875 50.515625 64.515625 \nQ 56.984375 54.828125 56.984375 36.375 \nQ 56.984375 17.96875 50.515625 8.265625 \nQ 44.046875 -1.421875 31.78125 -1.421875 \nQ 19.53125 -1.421875 13.0625 8.265625 \nQ 6.59375 17.96875 6.59375 36.375 \nQ 6.59375 54.828125 13.0625 64.515625 \nQ 19.53125 74.21875 31.78125 74.21875 \nz\n\" id=\"DejaVuSans-48\"/>\n      </defs>\n      <g transform=\"translate(110.081279 239.238437)scale(0.1 -0.1)\">\n       <use xlink:href=\"#DejaVuSans-8722\"/>\n       <use x=\"83.789062\" xlink:href=\"#DejaVuSans-53\"/>\n       <use x=\"147.412109\" xlink:href=\"#DejaVuSans-46\"/>\n       <use x=\"179.199219\" xlink:href=\"#DejaVuSans-48\"/>\n      </g>\n     </g>\n    </g>\n    <g id=\"xtick_3\">\n     <g id=\"line2d_3\">\n      <g>\n       <use style=\"stroke:#000000;stroke-width:0.8;\" x=\"166.934909\" xlink:href=\"#m508683b20a\" y=\"224.64\"/>\n      </g>\n     </g>\n     <g id=\"text_3\">\n      <!-- −2.5 -->\n      <defs>\n       <path d=\"M 19.1875 8.296875 \nL 53.609375 8.296875 \nL 53.609375 0 \nL 7.328125 0 \nL 7.328125 8.296875 \nQ 12.9375 14.109375 22.625 23.890625 \nQ 32.328125 33.6875 34.8125 36.53125 \nQ 39.546875 41.84375 41.421875 45.53125 \nQ 43.3125 49.21875 43.3125 52.78125 \nQ 43.3125 58.59375 39.234375 62.25 \nQ 35.15625 65.921875 28.609375 65.921875 \nQ 23.96875 65.921875 18.8125 64.3125 \nQ 13.671875 62.703125 7.8125 59.421875 \nL 7.8125 69.390625 \nQ 13.765625 71.78125 18.9375 73 \nQ 24.125 74.21875 28.421875 74.21875 \nQ 39.75 74.21875 46.484375 68.546875 \nQ 53.21875 62.890625 53.21875 53.421875 \nQ 53.21875 48.921875 51.53125 44.890625 \nQ 49.859375 40.875 45.40625 35.40625 \nQ 44.1875 33.984375 37.640625 27.21875 \nQ 31.109375 20.453125 19.1875 8.296875 \nz\n\" id=\"DejaVuSans-50\"/>\n      </defs>\n      <g transform=\"translate(154.793503 239.238437)scale(0.1 -0.1)\">\n       <use xlink:href=\"#DejaVuSans-8722\"/>\n       <use x=\"83.789062\" xlink:href=\"#DejaVuSans-50\"/>\n       <use x=\"147.412109\" xlink:href=\"#DejaVuSans-46\"/>\n       <use x=\"179.199219\" xlink:href=\"#DejaVuSans-53\"/>\n      </g>\n     </g>\n    </g>\n    <g id=\"xtick_4\">\n     <g id=\"line2d_4\">\n      <g>\n       <use style=\"stroke:#000000;stroke-width:0.8;\" x=\"211.647132\" xlink:href=\"#m508683b20a\" y=\"224.64\"/>\n      </g>\n     </g>\n     <g id=\"text_4\">\n      <!-- 0.0 -->\n      <g transform=\"translate(203.69557 239.238437)scale(0.1 -0.1)\">\n       <use xlink:href=\"#DejaVuSans-48\"/>\n       <use x=\"63.623047\" xlink:href=\"#DejaVuSans-46\"/>\n       <use x=\"95.410156\" xlink:href=\"#DejaVuSans-48\"/>\n      </g>\n     </g>\n    </g>\n    <g id=\"xtick_5\">\n     <g id=\"line2d_5\">\n      <g>\n       <use style=\"stroke:#000000;stroke-width:0.8;\" x=\"256.359355\" xlink:href=\"#m508683b20a\" y=\"224.64\"/>\n      </g>\n     </g>\n     <g id=\"text_5\">\n      <!-- 2.5 -->\n      <g transform=\"translate(248.407793 239.238437)scale(0.1 -0.1)\">\n       <use xlink:href=\"#DejaVuSans-50\"/>\n       <use x=\"63.623047\" xlink:href=\"#DejaVuSans-46\"/>\n       <use x=\"95.410156\" xlink:href=\"#DejaVuSans-53\"/>\n      </g>\n     </g>\n    </g>\n    <g id=\"xtick_6\">\n     <g id=\"line2d_6\">\n      <g>\n       <use style=\"stroke:#000000;stroke-width:0.8;\" x=\"301.071579\" xlink:href=\"#m508683b20a\" y=\"224.64\"/>\n      </g>\n     </g>\n     <g id=\"text_6\">\n      <!-- 5.0 -->\n      <g transform=\"translate(293.120016 239.238437)scale(0.1 -0.1)\">\n       <use xlink:href=\"#DejaVuSans-53\"/>\n       <use x=\"63.623047\" xlink:href=\"#DejaVuSans-46\"/>\n       <use x=\"95.410156\" xlink:href=\"#DejaVuSans-48\"/>\n      </g>\n     </g>\n    </g>\n    <g id=\"xtick_7\">\n     <g id=\"line2d_7\">\n      <g>\n       <use style=\"stroke:#000000;stroke-width:0.8;\" x=\"345.783802\" xlink:href=\"#m508683b20a\" y=\"224.64\"/>\n      </g>\n     </g>\n     <g id=\"text_7\">\n      <!-- 7.5 -->\n      <g transform=\"translate(337.83224 239.238437)scale(0.1 -0.1)\">\n       <use xlink:href=\"#DejaVuSans-55\"/>\n       <use x=\"63.623047\" xlink:href=\"#DejaVuSans-46\"/>\n       <use x=\"95.410156\" xlink:href=\"#DejaVuSans-53\"/>\n      </g>\n     </g>\n    </g>\n   </g>\n   <g id=\"matplotlib.axis_2\">\n    <g id=\"ytick_1\">\n     <g id=\"line2d_8\">\n      <defs>\n       <path d=\"M 0 0 \nL -3.5 0 \n\" id=\"m7d82534a36\" style=\"stroke:#000000;stroke-width:0.8;\"/>\n      </defs>\n      <g>\n       <use style=\"stroke:#000000;stroke-width:0.8;\" x=\"35.304688\" xlink:href=\"#m7d82534a36\" y=\"220.021233\"/>\n      </g>\n     </g>\n     <g id=\"text_8\">\n      <!-- −20 -->\n      <g transform=\"translate(7.2 223.820452)scale(0.1 -0.1)\">\n       <use xlink:href=\"#DejaVuSans-8722\"/>\n       <use x=\"83.789062\" xlink:href=\"#DejaVuSans-50\"/>\n       <use x=\"147.412109\" xlink:href=\"#DejaVuSans-48\"/>\n      </g>\n     </g>\n    </g>\n    <g id=\"ytick_2\">\n     <g id=\"line2d_9\">\n      <g>\n       <use style=\"stroke:#000000;stroke-width:0.8;\" x=\"35.304688\" xlink:href=\"#m7d82534a36\" y=\"193.328609\"/>\n      </g>\n     </g>\n     <g id=\"text_9\">\n      <!-- −15 -->\n      <defs>\n       <path d=\"M 12.40625 8.296875 \nL 28.515625 8.296875 \nL 28.515625 63.921875 \nL 10.984375 60.40625 \nL 10.984375 69.390625 \nL 28.421875 72.90625 \nL 38.28125 72.90625 \nL 38.28125 8.296875 \nL 54.390625 8.296875 \nL 54.390625 0 \nL 12.40625 0 \nz\n\" id=\"DejaVuSans-49\"/>\n      </defs>\n      <g transform=\"translate(7.2 197.127828)scale(0.1 -0.1)\">\n       <use xlink:href=\"#DejaVuSans-8722\"/>\n       <use x=\"83.789062\" xlink:href=\"#DejaVuSans-49\"/>\n       <use x=\"147.412109\" xlink:href=\"#DejaVuSans-53\"/>\n      </g>\n     </g>\n    </g>\n    <g id=\"ytick_3\">\n     <g id=\"line2d_10\">\n      <g>\n       <use style=\"stroke:#000000;stroke-width:0.8;\" x=\"35.304688\" xlink:href=\"#m7d82534a36\" y=\"166.635985\"/>\n      </g>\n     </g>\n     <g id=\"text_10\">\n      <!-- −10 -->\n      <g transform=\"translate(7.2 170.435204)scale(0.1 -0.1)\">\n       <use xlink:href=\"#DejaVuSans-8722\"/>\n       <use x=\"83.789062\" xlink:href=\"#DejaVuSans-49\"/>\n       <use x=\"147.412109\" xlink:href=\"#DejaVuSans-48\"/>\n      </g>\n     </g>\n    </g>\n    <g id=\"ytick_4\">\n     <g id=\"line2d_11\">\n      <g>\n       <use style=\"stroke:#000000;stroke-width:0.8;\" x=\"35.304688\" xlink:href=\"#m7d82534a36\" y=\"139.943362\"/>\n      </g>\n     </g>\n     <g id=\"text_11\">\n      <!-- −5 -->\n      <g transform=\"translate(13.5625 143.74258)scale(0.1 -0.1)\">\n       <use xlink:href=\"#DejaVuSans-8722\"/>\n       <use x=\"83.789062\" xlink:href=\"#DejaVuSans-53\"/>\n      </g>\n     </g>\n    </g>\n    <g id=\"ytick_5\">\n     <g id=\"line2d_12\">\n      <g>\n       <use style=\"stroke:#000000;stroke-width:0.8;\" x=\"35.304688\" xlink:href=\"#m7d82534a36\" y=\"113.250738\"/>\n      </g>\n     </g>\n     <g id=\"text_12\">\n      <!-- 0 -->\n      <g transform=\"translate(21.942188 117.049956)scale(0.1 -0.1)\">\n       <use xlink:href=\"#DejaVuSans-48\"/>\n      </g>\n     </g>\n    </g>\n    <g id=\"ytick_6\">\n     <g id=\"line2d_13\">\n      <g>\n       <use style=\"stroke:#000000;stroke-width:0.8;\" x=\"35.304688\" xlink:href=\"#m7d82534a36\" y=\"86.558114\"/>\n      </g>\n     </g>\n     <g id=\"text_13\">\n      <!-- 5 -->\n      <g transform=\"translate(21.942188 90.357332)scale(0.1 -0.1)\">\n       <use xlink:href=\"#DejaVuSans-53\"/>\n      </g>\n     </g>\n    </g>\n    <g id=\"ytick_7\">\n     <g id=\"line2d_14\">\n      <g>\n       <use style=\"stroke:#000000;stroke-width:0.8;\" x=\"35.304688\" xlink:href=\"#m7d82534a36\" y=\"59.86549\"/>\n      </g>\n     </g>\n     <g id=\"text_14\">\n      <!-- 10 -->\n      <g transform=\"translate(15.579688 63.664709)scale(0.1 -0.1)\">\n       <use xlink:href=\"#DejaVuSans-49\"/>\n       <use x=\"63.623047\" xlink:href=\"#DejaVuSans-48\"/>\n      </g>\n     </g>\n    </g>\n    <g id=\"ytick_8\">\n     <g id=\"line2d_15\">\n      <g>\n       <use style=\"stroke:#000000;stroke-width:0.8;\" x=\"35.304688\" xlink:href=\"#m7d82534a36\" y=\"33.172866\"/>\n      </g>\n     </g>\n     <g id=\"text_15\">\n      <!-- 15 -->\n      <g transform=\"translate(15.579688 36.972085)scale(0.1 -0.1)\">\n       <use xlink:href=\"#DejaVuSans-49\"/>\n       <use x=\"63.623047\" xlink:href=\"#DejaVuSans-53\"/>\n      </g>\n     </g>\n    </g>\n   </g>\n   <g id=\"patch_3\">\n    <path d=\"M 35.304688 224.64 \nL 35.304688 7.2 \n\" style=\"fill:none;stroke:#000000;stroke-linecap:square;stroke-linejoin:miter;stroke-width:0.8;\"/>\n   </g>\n   <g id=\"patch_4\">\n    <path d=\"M 370.104688 224.64 \nL 370.104688 7.2 \n\" style=\"fill:none;stroke:#000000;stroke-linecap:square;stroke-linejoin:miter;stroke-width:0.8;\"/>\n   </g>\n   <g id=\"patch_5\">\n    <path d=\"M 35.304688 224.64 \nL 370.104688 224.64 \n\" style=\"fill:none;stroke:#000000;stroke-linecap:square;stroke-linejoin:miter;stroke-width:0.8;\"/>\n   </g>\n   <g id=\"patch_6\">\n    <path d=\"M 35.304688 7.2 \nL 370.104688 7.2 \n\" style=\"fill:none;stroke:#000000;stroke-linecap:square;stroke-linejoin:miter;stroke-width:0.8;\"/>\n   </g>\n  </g>\n </g>\n <defs>\n  <clipPath id=\"pac0abf3131\">\n   <rect height=\"217.44\" width=\"334.8\" x=\"35.304688\" y=\"7.2\"/>\n  </clipPath>\n </defs>\n</svg>\n",
      "image/png": "[encoded data removed]"
     },
     "metadata": {
      "needs_background": "light"
     }
    }
   ],
   "source": [
    "fig = plt.figure()\n",
    "ax = fig.add_subplot(1,1,1)\n",
    "ax.scatter(X[0],X[1])"
   ]
  },
  {
   "cell_type": "code",
   "execution_count": 9,
   "metadata": {},
   "outputs": [
    {
     "output_type": "stream",
     "name": "stdout",
     "text": [
      "Eigenvalues: [  31.33064012 2341.66935988]\nEigenvectors: \n[[-0.91153928 -0.41121301]\n [ 0.41121301 -0.91153928]]\n"
     ]
    }
   ],
   "source": [
    "EW,EV = np.linalg.eig(np.dot(X,X.T))\n",
    "\n",
    "print(f'Eigenvalues: {EW}\\nEigenvectors: \\n{EV}')\n",
    "\n",
    "# Matrix ist symmetrisch"
   ]
  },
  {
   "cell_type": "code",
   "execution_count": 13,
   "metadata": {},
   "outputs": [
    {
     "output_type": "display_data",
     "data": {
      "text/plain": "<Figure size 432x288 with 1 Axes>",
      "image/svg+xml": "<?xml version=\"1.0\" encoding=\"utf-8\" standalone=\"no\"?>\n<!DOCTYPE svg PUBLIC \"-//W3C//DTD SVG 1.1//EN\"\n  \"http://www.w3.org/Graphics/SVG/1.1/DTD/svg11.dtd\">\n<!-- Created with matplotlib (https://matplotlib.org/) -->\n<svg height=\"248.518125pt\" version=\"1.1\" viewBox=\"0 0 155.781461 248.518125\" width=\"155.781461pt\" xmlns=\"http://www.w3.org/2000/svg\" xmlns:xlink=\"http://www.w3.org/1999/xlink\">\n <defs>\n  <style type=\"text/css\">\n*{stroke-linecap:butt;stroke-linejoin:round;}\n  </style>\n </defs>\n <g id=\"figure_1\">\n  <g id=\"patch_1\">\n   <path d=\"M 0 248.518125 \nL 155.781461 248.518125 \nL 155.781461 0 \nL 0 0 \nz\n\" style=\"fill:none;\"/>\n  </g>\n  <g id=\"axes_1\">\n   <g id=\"patch_2\">\n    <path d=\"M 35.304688 224.64 \nL 142.362738 224.64 \nL 142.362738 7.2 \nL 35.304688 7.2 \nz\n\" style=\"fill:#ffffff;\"/>\n   </g>\n   <g id=\"PathCollection_1\">\n    <defs>\n     <path d=\"M 0 3 \nC 0.795609 3 1.55874 2.683901 2.12132 2.12132 \nC 2.683901 1.55874 3 0.795609 3 0 \nC 3 -0.795609 2.683901 -1.55874 2.12132 -2.12132 \nC 1.55874 -2.683901 0.795609 -3 0 -3 \nC -0.795609 -3 -1.55874 -2.683901 -2.12132 -2.12132 \nC -2.683901 -1.55874 -3 -0.795609 -3 0 \nC -3 0.795609 -2.683901 1.55874 -2.12132 2.12132 \nC -1.55874 2.683901 -0.795609 3 0 3 \nz\n\" id=\"m6c34c08e7b\" style=\"stroke:#1f77b4;\"/>\n    </defs>\n    <g clip-path=\"url(#p3699dc0281)\">\n     <use style=\"fill:#1f77b4;stroke:#1f77b4;\" x=\"78.156663\" xlink:href=\"#m6c34c08e7b\" y=\"129.266312\"/>\n     <use style=\"fill:#1f77b4;stroke:#1f77b4;\" x=\"67.479614\" xlink:href=\"#m6c34c08e7b\" y=\"150.620411\"/>\n     <use style=\"fill:#1f77b4;stroke:#1f77b4;\" x=\"56.802564\" xlink:href=\"#m6c34c08e7b\" y=\"182.65156\"/>\n     <use style=\"fill:#1f77b4;stroke:#1f77b4;\" x=\"120.864862\" xlink:href=\"#m6c34c08e7b\" y=\"27.834341\"/>\n     <use style=\"fill:#1f77b4;stroke:#1f77b4;\" x=\"46.125515\" xlink:href=\"#m6c34c08e7b\" y=\"187.990085\"/>\n     <use style=\"fill:#1f77b4;stroke:#1f77b4;\" x=\"120.864862\" xlink:href=\"#m6c34c08e7b\" y=\"38.511391\"/>\n     <use style=\"fill:#1f77b4;stroke:#1f77b4;\" x=\"104.849287\" xlink:href=\"#m6c34c08e7b\" y=\"81.219589\"/>\n     <use style=\"fill:#1f77b4;stroke:#1f77b4;\" x=\"120.864862\" xlink:href=\"#m6c34c08e7b\" y=\"54.526965\"/>\n     <use style=\"fill:#1f77b4;stroke:#1f77b4;\" x=\"131.541911\" xlink:href=\"#m6c34c08e7b\" y=\"17.157292\"/>\n     <use style=\"fill:#1f77b4;stroke:#1f77b4;\" x=\"40.78699\" xlink:href=\"#m6c34c08e7b\" y=\"214.682708\"/>\n     <use style=\"fill:#1f77b4;stroke:#1f77b4;\" x=\"83.495188\" xlink:href=\"#m6c34c08e7b\" y=\"86.558114\"/>\n     <use style=\"fill:#1f77b4;stroke:#1f77b4;\" x=\"94.172238\" xlink:href=\"#m6c34c08e7b\" y=\"113.250738\"/>\n     <use style=\"fill:#1f77b4;stroke:#1f77b4;\" x=\"110.187812\" xlink:href=\"#m6c34c08e7b\" y=\"97.235163\"/>\n     <use style=\"fill:#1f77b4;stroke:#1f77b4;\" x=\"99.510763\" xlink:href=\"#m6c34c08e7b\" y=\"97.235163\"/>\n     <use style=\"fill:#1f77b4;stroke:#1f77b4;\" x=\"99.510763\" xlink:href=\"#m6c34c08e7b\" y=\"81.219589\"/>\n     <use style=\"fill:#1f77b4;stroke:#1f77b4;\" x=\"99.510763\" xlink:href=\"#m6c34c08e7b\" y=\"70.542539\"/>\n     <use style=\"fill:#1f77b4;stroke:#1f77b4;\" x=\"83.495188\" xlink:href=\"#m6c34c08e7b\" y=\"129.266312\"/>\n     <use style=\"fill:#1f77b4;stroke:#1f77b4;\" x=\"83.495188\" xlink:href=\"#m6c34c08e7b\" y=\"118.589262\"/>\n     <use style=\"fill:#1f77b4;stroke:#1f77b4;\" x=\"99.510763\" xlink:href=\"#m6c34c08e7b\" y=\"113.250738\"/>\n     <use style=\"fill:#1f77b4;stroke:#1f77b4;\" x=\"99.510763\" xlink:href=\"#m6c34c08e7b\" y=\"65.204015\"/>\n    </g>\n   </g>\n   <g id=\"matplotlib.axis_1\">\n    <g id=\"xtick_1\">\n     <g id=\"line2d_1\">\n      <defs>\n       <path d=\"M 0 0 \nL 0 3.5 \n\" id=\"m7333a4c62b\" style=\"stroke:#000000;stroke-width:0.8;\"/>\n      </defs>\n      <g>\n       <use style=\"stroke:#000000;stroke-width:0.8;\" x=\"35.448465\" xlink:href=\"#m7333a4c62b\" y=\"224.64\"/>\n      </g>\n     </g>\n     <g id=\"text_1\">\n      <!-- −10 -->\n      <defs>\n       <path d=\"M 10.59375 35.5 \nL 73.1875 35.5 \nL 73.1875 27.203125 \nL 10.59375 27.203125 \nz\n\" id=\"DejaVuSans-8722\"/>\n       <path d=\"M 12.40625 8.296875 \nL 28.515625 8.296875 \nL 28.515625 63.921875 \nL 10.984375 60.40625 \nL 10.984375 69.390625 \nL 28.421875 72.90625 \nL 38.28125 72.90625 \nL 38.28125 8.296875 \nL 54.390625 8.296875 \nL 54.390625 0 \nL 12.40625 0 \nz\n\" id=\"DejaVuSans-49\"/>\n       <path d=\"M 31.78125 66.40625 \nQ 24.171875 66.40625 20.328125 58.90625 \nQ 16.5 51.421875 16.5 36.375 \nQ 16.5 21.390625 20.328125 13.890625 \nQ 24.171875 6.390625 31.78125 6.390625 \nQ 39.453125 6.390625 43.28125 13.890625 \nQ 47.125 21.390625 47.125 36.375 \nQ 47.125 51.421875 43.28125 58.90625 \nQ 39.453125 66.40625 31.78125 66.40625 \nz\nM 31.78125 74.21875 \nQ 44.046875 74.21875 50.515625 64.515625 \nQ 56.984375 54.828125 56.984375 36.375 \nQ 56.984375 17.96875 50.515625 8.265625 \nQ 44.046875 -1.421875 31.78125 -1.421875 \nQ 19.53125 -1.421875 13.0625 8.265625 \nQ 6.59375 17.96875 6.59375 36.375 \nQ 6.59375 54.828125 13.0625 64.515625 \nQ 19.53125 74.21875 31.78125 74.21875 \nz\n\" id=\"DejaVuSans-48\"/>\n      </defs>\n      <g transform=\"translate(24.896121 239.238437)scale(0.1 -0.1)\">\n       <use xlink:href=\"#DejaVuSans-8722\"/>\n       <use x=\"83.789062\" xlink:href=\"#DejaVuSans-49\"/>\n       <use x=\"147.412109\" xlink:href=\"#DejaVuSans-48\"/>\n      </g>\n     </g>\n    </g>\n    <g id=\"xtick_2\">\n     <g id=\"line2d_2\">\n      <g>\n       <use style=\"stroke:#000000;stroke-width:0.8;\" x=\"88.833713\" xlink:href=\"#m7333a4c62b\" y=\"224.64\"/>\n      </g>\n     </g>\n     <g id=\"text_2\">\n      <!-- 0 -->\n      <g transform=\"translate(85.652463 239.238437)scale(0.1 -0.1)\">\n       <use xlink:href=\"#DejaVuSans-48\"/>\n      </g>\n     </g>\n    </g>\n    <g id=\"xtick_3\">\n     <g id=\"line2d_3\">\n      <g>\n       <use style=\"stroke:#000000;stroke-width:0.8;\" x=\"142.218961\" xlink:href=\"#m7333a4c62b\" y=\"224.64\"/>\n      </g>\n     </g>\n     <g id=\"text_3\">\n      <!-- 10 -->\n      <g transform=\"translate(135.856461 239.238437)scale(0.1 -0.1)\">\n       <use xlink:href=\"#DejaVuSans-49\"/>\n       <use x=\"63.623047\" xlink:href=\"#DejaVuSans-48\"/>\n      </g>\n     </g>\n    </g>\n   </g>\n   <g id=\"matplotlib.axis_2\">\n    <g id=\"ytick_1\">\n     <g id=\"line2d_4\">\n      <defs>\n       <path d=\"M 0 0 \nL -3.5 0 \n\" id=\"mc56962c6db\" style=\"stroke:#000000;stroke-width:0.8;\"/>\n      </defs>\n      <g>\n       <use style=\"stroke:#000000;stroke-width:0.8;\" x=\"35.304688\" xlink:href=\"#mc56962c6db\" y=\"220.021233\"/>\n      </g>\n     </g>\n     <g id=\"text_4\">\n      <!-- −20 -->\n      <defs>\n       <path d=\"M 19.1875 8.296875 \nL 53.609375 8.296875 \nL 53.609375 0 \nL 7.328125 0 \nL 7.328125 8.296875 \nQ 12.9375 14.109375 22.625 23.890625 \nQ 32.328125 33.6875 34.8125 36.53125 \nQ 39.546875 41.84375 41.421875 45.53125 \nQ 43.3125 49.21875 43.3125 52.78125 \nQ 43.3125 58.59375 39.234375 62.25 \nQ 35.15625 65.921875 28.609375 65.921875 \nQ 23.96875 65.921875 18.8125 64.3125 \nQ 13.671875 62.703125 7.8125 59.421875 \nL 7.8125 69.390625 \nQ 13.765625 71.78125 18.9375 73 \nQ 24.125 74.21875 28.421875 74.21875 \nQ 39.75 74.21875 46.484375 68.546875 \nQ 53.21875 62.890625 53.21875 53.421875 \nQ 53.21875 48.921875 51.53125 44.890625 \nQ 49.859375 40.875 45.40625 35.40625 \nQ 44.1875 33.984375 37.640625 27.21875 \nQ 31.109375 20.453125 19.1875 8.296875 \nz\n\" id=\"DejaVuSans-50\"/>\n      </defs>\n      <g transform=\"translate(7.2 223.820452)scale(0.1 -0.1)\">\n       <use xlink:href=\"#DejaVuSans-8722\"/>\n       <use x=\"83.789062\" xlink:href=\"#DejaVuSans-50\"/>\n       <use x=\"147.412109\" xlink:href=\"#DejaVuSans-48\"/>\n      </g>\n     </g>\n    </g>\n    <g id=\"ytick_2\">\n     <g id=\"line2d_5\">\n      <g>\n       <use style=\"stroke:#000000;stroke-width:0.8;\" x=\"35.304688\" xlink:href=\"#mc56962c6db\" y=\"193.328609\"/>\n      </g>\n     </g>\n     <g id=\"text_5\">\n      <!-- −15 -->\n      <defs>\n       <path d=\"M 10.796875 72.90625 \nL 49.515625 72.90625 \nL 49.515625 64.59375 \nL 19.828125 64.59375 \nL 19.828125 46.734375 \nQ 21.96875 47.46875 24.109375 47.828125 \nQ 26.265625 48.1875 28.421875 48.1875 \nQ 40.625 48.1875 47.75 41.5 \nQ 54.890625 34.8125 54.890625 23.390625 \nQ 54.890625 11.625 47.5625 5.09375 \nQ 40.234375 -1.421875 26.90625 -1.421875 \nQ 22.3125 -1.421875 17.546875 -0.640625 \nQ 12.796875 0.140625 7.71875 1.703125 \nL 7.71875 11.625 \nQ 12.109375 9.234375 16.796875 8.0625 \nQ 21.484375 6.890625 26.703125 6.890625 \nQ 35.15625 6.890625 40.078125 11.328125 \nQ 45.015625 15.765625 45.015625 23.390625 \nQ 45.015625 31 40.078125 35.4375 \nQ 35.15625 39.890625 26.703125 39.890625 \nQ 22.75 39.890625 18.8125 39.015625 \nQ 14.890625 38.140625 10.796875 36.28125 \nz\n\" id=\"DejaVuSans-53\"/>\n      </defs>\n      <g transform=\"translate(7.2 197.127828)scale(0.1 -0.1)\">\n       <use xlink:href=\"#DejaVuSans-8722\"/>\n       <use x=\"83.789062\" xlink:href=\"#DejaVuSans-49\"/>\n       <use x=\"147.412109\" xlink:href=\"#DejaVuSans-53\"/>\n      </g>\n     </g>\n    </g>\n    <g id=\"ytick_3\">\n     <g id=\"line2d_6\">\n      <g>\n       <use style=\"stroke:#000000;stroke-width:0.8;\" x=\"35.304688\" xlink:href=\"#mc56962c6db\" y=\"166.635985\"/>\n      </g>\n     </g>\n     <g id=\"text_6\">\n      <!-- −10 -->\n      <g transform=\"translate(7.2 170.435204)scale(0.1 -0.1)\">\n       <use xlink:href=\"#DejaVuSans-8722\"/>\n       <use x=\"83.789062\" xlink:href=\"#DejaVuSans-49\"/>\n       <use x=\"147.412109\" xlink:href=\"#DejaVuSans-48\"/>\n      </g>\n     </g>\n    </g>\n    <g id=\"ytick_4\">\n     <g id=\"line2d_7\">\n      <g>\n       <use style=\"stroke:#000000;stroke-width:0.8;\" x=\"35.304688\" xlink:href=\"#mc56962c6db\" y=\"139.943362\"/>\n      </g>\n     </g>\n     <g id=\"text_7\">\n      <!-- −5 -->\n      <g transform=\"translate(13.5625 143.74258)scale(0.1 -0.1)\">\n       <use xlink:href=\"#DejaVuSans-8722\"/>\n       <use x=\"83.789062\" xlink:href=\"#DejaVuSans-53\"/>\n      </g>\n     </g>\n    </g>\n    <g id=\"ytick_5\">\n     <g id=\"line2d_8\">\n      <g>\n       <use style=\"stroke:#000000;stroke-width:0.8;\" x=\"35.304688\" xlink:href=\"#mc56962c6db\" y=\"113.250738\"/>\n      </g>\n     </g>\n     <g id=\"text_8\">\n      <!-- 0 -->\n      <g transform=\"translate(21.942188 117.049956)scale(0.1 -0.1)\">\n       <use xlink:href=\"#DejaVuSans-48\"/>\n      </g>\n     </g>\n    </g>\n    <g id=\"ytick_6\">\n     <g id=\"line2d_9\">\n      <g>\n       <use style=\"stroke:#000000;stroke-width:0.8;\" x=\"35.304688\" xlink:href=\"#mc56962c6db\" y=\"86.558114\"/>\n      </g>\n     </g>\n     <g id=\"text_9\">\n      <!-- 5 -->\n      <g transform=\"translate(21.942188 90.357332)scale(0.1 -0.1)\">\n       <use xlink:href=\"#DejaVuSans-53\"/>\n      </g>\n     </g>\n    </g>\n    <g id=\"ytick_7\">\n     <g id=\"line2d_10\">\n      <g>\n       <use style=\"stroke:#000000;stroke-width:0.8;\" x=\"35.304688\" xlink:href=\"#mc56962c6db\" y=\"59.86549\"/>\n      </g>\n     </g>\n     <g id=\"text_10\">\n      <!-- 10 -->\n      <g transform=\"translate(15.579688 63.664709)scale(0.1 -0.1)\">\n       <use xlink:href=\"#DejaVuSans-49\"/>\n       <use x=\"63.623047\" xlink:href=\"#DejaVuSans-48\"/>\n      </g>\n     </g>\n    </g>\n    <g id=\"ytick_8\">\n     <g id=\"line2d_11\">\n      <g>\n       <use style=\"stroke:#000000;stroke-width:0.8;\" x=\"35.304688\" xlink:href=\"#mc56962c6db\" y=\"33.172866\"/>\n      </g>\n     </g>\n     <g id=\"text_11\">\n      <!-- 15 -->\n      <g transform=\"translate(15.579688 36.972085)scale(0.1 -0.1)\">\n       <use xlink:href=\"#DejaVuSans-49\"/>\n       <use x=\"63.623047\" xlink:href=\"#DejaVuSans-53\"/>\n      </g>\n     </g>\n    </g>\n   </g>\n   <g id=\"line2d_12\">\n    <path clip-path=\"url(#p3699dc0281)\" d=\"M 137.496463 135.203446 \nL 40.170963 91.298029 \n\" style=\"fill:none;stroke:#008000;stroke-linecap:square;stroke-width:1.5;\"/>\n   </g>\n   <g id=\"line2d_13\">\n    <path clip-path=\"url(#p3699dc0281)\" d=\"M 110.786421 64.587987 \nL 66.881004 161.913488 \n\" style=\"fill:none;stroke:#ff0000;stroke-linecap:square;stroke-width:1.5;\"/>\n   </g>\n   <g id=\"patch_3\">\n    <path d=\"M 35.304688 224.64 \nL 35.304688 7.2 \n\" style=\"fill:none;stroke:#000000;stroke-linecap:square;stroke-linejoin:miter;stroke-width:0.8;\"/>\n   </g>\n   <g id=\"patch_4\">\n    <path d=\"M 142.362738 224.64 \nL 142.362738 7.2 \n\" style=\"fill:none;stroke:#000000;stroke-linecap:square;stroke-linejoin:miter;stroke-width:0.8;\"/>\n   </g>\n   <g id=\"patch_5\">\n    <path d=\"M 35.304688 224.64 \nL 142.362738 224.64 \n\" style=\"fill:none;stroke:#000000;stroke-linecap:square;stroke-linejoin:miter;stroke-width:0.8;\"/>\n   </g>\n   <g id=\"patch_6\">\n    <path d=\"M 35.304688 7.2 \nL 142.362738 7.2 \n\" style=\"fill:none;stroke:#000000;stroke-linecap:square;stroke-linejoin:miter;stroke-width:0.8;\"/>\n   </g>\n  </g>\n </g>\n <defs>\n  <clipPath id=\"p3699dc0281\">\n   <rect height=\"217.44\" width=\"107.058051\" x=\"35.304688\" y=\"7.2\"/>\n  </clipPath>\n </defs>\n</svg>\n",
      "image/png": "[encoded data removed]"
     },
     "metadata": {
      "needs_background": "light"
     }
    }
   ],
   "source": [
    "fig = plt.figure()\n",
    "ax = fig.add_subplot(1,1,1)\n",
    "ax.scatter(X[0],X[1])\n",
    "ax.plot([EV[:,0][0]*-10, EV[:,0][0]*10],[EV[:,0][1]*-10, EV[:,0][1]*10], color='green')\n",
    "ax.plot([EV[:,1][0]*-10, EV[:,1][0]*10],[EV[:,1][1]*-10, EV[:,1][1]*10], color='red')\n",
    "fig.gca().set_aspect('equal')\n"
   ]
  },
  {
   "cell_type": "code",
   "execution_count": null,
   "metadata": {},
   "outputs": [],
   "source": []
  }
 ]
}